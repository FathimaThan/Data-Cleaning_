{
 "cells": [
  {
   "cell_type": "markdown",
   "id": "585d73de",
   "metadata": {},
   "source": [
    "# Assignment for Data QA & QC Internship @ Datahut\n",
    "\n",
    "## Problem Statement\n",
    "The dataset contains employee information, but it is messy and contains several inconsistencies and errors. The objective is to clean and preprocess this dataset to ensure data quality and consistency.\n",
    "\n",
    "## Objective\n",
    "1. Load and inspect the dataset to understand its structure and identify errors and inconsistencies.\n",
    "2. Handle missing values appropriately without losing significant data.\n",
    "3. Remove duplicate records to ensure uniqueness.\n",
    "4. Validate and correct email formats, ensuring only professional emails are retained.\n",
    "5. Clean and standardize name fields, date formats, and department names.\n",
    "6. Handle noise in the salary column, ensuring values are within a reasonable range.\n",
    "\n",
    "## Expected Outcome\n",
    "A cleaned and well-structured dataset that is ready for further analysis or use in downstream applications, with:\n",
    "* Consistent and validated email addresses.\n",
    "* Standardized names, dates, and department names.\n",
    "* Handled missing values and reduced data loss.\n",
    "* Filtered and reasonable salary values.\n"
   ]
  },
  {
   "cell_type": "code",
   "execution_count": 70,
   "id": "1e46a9e1",
   "metadata": {},
   "outputs": [],
   "source": [
    "# importing necessary libraries\n",
    "import pandas as pd\n",
    "import numpy as np\n",
    "import matplotlib.pyplot as plt\n",
    "import seaborn as sns"
   ]
  },
  {
   "cell_type": "markdown",
   "id": "9597b65b",
   "metadata": {},
   "source": [
    "## 1. Load the Data"
   ]
  },
  {
   "cell_type": "code",
   "execution_count": 71,
   "id": "48dc3bc7",
   "metadata": {},
   "outputs": [
    {
     "data": {
      "text/html": [
       "<div>\n",
       "<style scoped>\n",
       "    .dataframe tbody tr th:only-of-type {\n",
       "        vertical-align: middle;\n",
       "    }\n",
       "\n",
       "    .dataframe tbody tr th {\n",
       "        vertical-align: top;\n",
       "    }\n",
       "\n",
       "    .dataframe thead th {\n",
       "        text-align: right;\n",
       "    }\n",
       "</style>\n",
       "<table border=\"1\" class=\"dataframe\">\n",
       "  <thead>\n",
       "    <tr style=\"text-align: right;\">\n",
       "      <th></th>\n",
       "      <th>Unnamed: 0</th>\n",
       "      <th>ID</th>\n",
       "      <th>Name</th>\n",
       "      <th>Age</th>\n",
       "      <th>Email</th>\n",
       "      <th>Join Date</th>\n",
       "      <th>Salary</th>\n",
       "      <th>Department</th>\n",
       "    </tr>\n",
       "  </thead>\n",
       "  <tbody>\n",
       "    <tr>\n",
       "      <th>0</th>\n",
       "      <td>0</td>\n",
       "      <td>1e407ff9-6255-489d-a0de-34135d4f74bd</td>\n",
       "      <td>Hunter Thomas</td>\n",
       "      <td>25.0</td>\n",
       "      <td>xlopez@hotmail.com</td>\n",
       "      <td>NaN</td>\n",
       "      <td>88552.0</td>\n",
       "      <td>Sales</td>\n",
       "    </tr>\n",
       "    <tr>\n",
       "      <th>1</th>\n",
       "      <td>1</td>\n",
       "      <td>379f55b8-87d5-4739-a146-7400b78c24d1</td>\n",
       "      <td>Jeremy Irwin</td>\n",
       "      <td>90.0</td>\n",
       "      <td>Jillian Jenkins</td>\n",
       "      <td>2022-07-07</td>\n",
       "      <td>139227.0</td>\n",
       "      <td>NaN</td>\n",
       "    </tr>\n",
       "    <tr>\n",
       "      <th>2</th>\n",
       "      <td>2</td>\n",
       "      <td>18261368-dfa1-47f0-afc6-bddf45926b07</td>\n",
       "      <td>Jennifer Hammondquickly</td>\n",
       "      <td>66.0</td>\n",
       "      <td>jscottgreen.biz</td>\n",
       "      <td>2023-11-21</td>\n",
       "      <td>65550.0</td>\n",
       "      <td>Engineering</td>\n",
       "    </tr>\n",
       "    <tr>\n",
       "      <th>3</th>\n",
       "      <td>3</td>\n",
       "      <td>ae7cf7cf-17cf-4c8b-9c44-4f61a9a238e5</td>\n",
       "      <td>Sydney Taylorso</td>\n",
       "      <td>39.0</td>\n",
       "      <td>luke56gonzalez.com</td>\n",
       "      <td>2021-11-05</td>\n",
       "      <td>139932.0</td>\n",
       "      <td>SupportJ</td>\n",
       "    </tr>\n",
       "    <tr>\n",
       "      <th>4</th>\n",
       "      <td>4</td>\n",
       "      <td>14ed3e6a-e0f5-4bbe-8d93-8665267f5c90</td>\n",
       "      <td>Julia Lee</td>\n",
       "      <td>71.0</td>\n",
       "      <td>figueroakayla@yahoo.com</td>\n",
       "      <td>NaN</td>\n",
       "      <td>143456.0</td>\n",
       "      <td>Marketing</td>\n",
       "    </tr>\n",
       "  </tbody>\n",
       "</table>\n",
       "</div>"
      ],
      "text/plain": [
       "   Unnamed: 0                                    ID                     Name  \\\n",
       "0           0  1e407ff9-6255-489d-a0de-34135d4f74bd            Hunter Thomas   \n",
       "1           1  379f55b8-87d5-4739-a146-7400b78c24d1             Jeremy Irwin   \n",
       "2           2  18261368-dfa1-47f0-afc6-bddf45926b07  Jennifer Hammondquickly   \n",
       "3           3  ae7cf7cf-17cf-4c8b-9c44-4f61a9a238e5          Sydney Taylorso   \n",
       "4           4  14ed3e6a-e0f5-4bbe-8d93-8665267f5c90                Julia Lee   \n",
       "\n",
       "    Age                    Email   Join Date    Salary   Department  \n",
       "0  25.0       xlopez@hotmail.com         NaN   88552.0        Sales  \n",
       "1  90.0          Jillian Jenkins  2022-07-07  139227.0          NaN  \n",
       "2  66.0          jscottgreen.biz  2023-11-21   65550.0  Engineering  \n",
       "3  39.0       luke56gonzalez.com  2021-11-05  139932.0     SupportJ  \n",
       "4  71.0  figueroakayla@yahoo.com         NaN  143456.0    Marketing  "
      ]
     },
     "execution_count": 71,
     "metadata": {},
     "output_type": "execute_result"
    }
   ],
   "source": [
    "df = pd.read_csv(r\"C:\\Users\\HP\\Desktop\\DSML Internship\\Data Hut\\Final\\messy_data.csv\")\n",
    "df.head()"
   ]
  },
  {
   "cell_type": "code",
   "execution_count": 72,
   "id": "58d96ecf",
   "metadata": {},
   "outputs": [
    {
     "data": {
      "text/html": [
       "<div>\n",
       "<style scoped>\n",
       "    .dataframe tbody tr th:only-of-type {\n",
       "        vertical-align: middle;\n",
       "    }\n",
       "\n",
       "    .dataframe tbody tr th {\n",
       "        vertical-align: top;\n",
       "    }\n",
       "\n",
       "    .dataframe thead th {\n",
       "        text-align: right;\n",
       "    }\n",
       "</style>\n",
       "<table border=\"1\" class=\"dataframe\">\n",
       "  <thead>\n",
       "    <tr style=\"text-align: right;\">\n",
       "      <th></th>\n",
       "      <th>Unnamed: 0</th>\n",
       "      <th>ID</th>\n",
       "      <th>Name</th>\n",
       "      <th>Age</th>\n",
       "      <th>Email</th>\n",
       "      <th>Join Date</th>\n",
       "      <th>Salary</th>\n",
       "      <th>Department</th>\n",
       "    </tr>\n",
       "  </thead>\n",
       "  <tbody>\n",
       "    <tr>\n",
       "      <th>10995</th>\n",
       "      <td>6523</td>\n",
       "      <td>07c223be-03e6-4f70-a2b5-86df778cc61a</td>\n",
       "      <td>NaN</td>\n",
       "      <td>NaN</td>\n",
       "      <td>NaN</td>\n",
       "      <td>NaN</td>\n",
       "      <td>NaN</td>\n",
       "      <td>NaN</td>\n",
       "    </tr>\n",
       "    <tr>\n",
       "      <th>10996</th>\n",
       "      <td>9785</td>\n",
       "      <td>da8a6bbc-5026-4630-848d-f64e80dac56c</td>\n",
       "      <td>Steven Armstrong</td>\n",
       "      <td>38.0</td>\n",
       "      <td>molly89gmail.com</td>\n",
       "      <td>2021-06-24</td>\n",
       "      <td>NaN</td>\n",
       "      <td>Sales</td>\n",
       "    </tr>\n",
       "    <tr>\n",
       "      <th>10997</th>\n",
       "      <td>7826</td>\n",
       "      <td>ed19c966-d6d8-4047-b410-b6e595a39340</td>\n",
       "      <td>Stephanie Riossell</td>\n",
       "      <td>NaN</td>\n",
       "      <td>robert96@pollard-frye.com</td>\n",
       "      <td>15/08/2006</td>\n",
       "      <td>122609.594149</td>\n",
       "      <td>HR</td>\n",
       "    </tr>\n",
       "    <tr>\n",
       "      <th>10998</th>\n",
       "      <td>7648</td>\n",
       "      <td>783b36b4-d09f-46c9-8a52-7ff96b80863e</td>\n",
       "      <td>Bonnie Benitez</td>\n",
       "      <td>37.0</td>\n",
       "      <td>roypark@warren.net</td>\n",
       "      <td>2020-10-09</td>\n",
       "      <td>147322.005171</td>\n",
       "      <td>Support</td>\n",
       "    </tr>\n",
       "    <tr>\n",
       "      <th>10999</th>\n",
       "      <td>7107</td>\n",
       "      <td>fc25a38a-5747-46eb-b6d3-7173f8255809</td>\n",
       "      <td>Caroline Ochoa</td>\n",
       "      <td>53.0</td>\n",
       "      <td>cdavis@hodges.com</td>\n",
       "      <td>2023-08-10</td>\n",
       "      <td>149224.000000</td>\n",
       "      <td>Support</td>\n",
       "    </tr>\n",
       "  </tbody>\n",
       "</table>\n",
       "</div>"
      ],
      "text/plain": [
       "       Unnamed: 0                                    ID                Name  \\\n",
       "10995        6523  07c223be-03e6-4f70-a2b5-86df778cc61a                 NaN   \n",
       "10996        9785  da8a6bbc-5026-4630-848d-f64e80dac56c    Steven Armstrong   \n",
       "10997        7826  ed19c966-d6d8-4047-b410-b6e595a39340  Stephanie Riossell   \n",
       "10998        7648  783b36b4-d09f-46c9-8a52-7ff96b80863e      Bonnie Benitez   \n",
       "10999        7107  fc25a38a-5747-46eb-b6d3-7173f8255809      Caroline Ochoa   \n",
       "\n",
       "        Age                      Email   Join Date         Salary Department  \n",
       "10995   NaN                        NaN         NaN            NaN        NaN  \n",
       "10996  38.0           molly89gmail.com  2021-06-24            NaN      Sales  \n",
       "10997   NaN  robert96@pollard-frye.com  15/08/2006  122609.594149         HR  \n",
       "10998  37.0         roypark@warren.net  2020-10-09  147322.005171    Support  \n",
       "10999  53.0          cdavis@hodges.com  2023-08-10  149224.000000    Support  "
      ]
     },
     "execution_count": 72,
     "metadata": {},
     "output_type": "execute_result"
    }
   ],
   "source": [
    "df.tail()"
   ]
  },
  {
   "cell_type": "markdown",
   "id": "dc1d1a8e",
   "metadata": {},
   "source": [
    "## 2. Inspect the Data"
   ]
  },
  {
   "cell_type": "code",
   "execution_count": 73,
   "id": "9b6f2a1f",
   "metadata": {},
   "outputs": [
    {
     "data": {
      "text/plain": [
       "(11000, 8)"
      ]
     },
     "execution_count": 73,
     "metadata": {},
     "output_type": "execute_result"
    }
   ],
   "source": [
    "df.shape"
   ]
  },
  {
   "cell_type": "markdown",
   "id": "17a1afbd",
   "metadata": {},
   "source": [
    "There are 11000 rows and 8 columns"
   ]
  },
  {
   "cell_type": "code",
   "execution_count": 74,
   "id": "5eaaf19a",
   "metadata": {},
   "outputs": [
    {
     "name": "stdout",
     "output_type": "stream",
     "text": [
      "<class 'pandas.core.frame.DataFrame'>\n",
      "RangeIndex: 11000 entries, 0 to 10999\n",
      "Data columns (total 8 columns):\n",
      " #   Column      Non-Null Count  Dtype  \n",
      "---  ------      --------------  -----  \n",
      " 0   Unnamed: 0  11000 non-null  int64  \n",
      " 1   ID          11000 non-null  object \n",
      " 2   Name        8667 non-null   object \n",
      " 3   Age         9253 non-null   float64\n",
      " 4   Email       9731 non-null   object \n",
      " 5   Join Date   8808 non-null   object \n",
      " 6   Salary      8761 non-null   float64\n",
      " 7   Department  8745 non-null   object \n",
      "dtypes: float64(2), int64(1), object(5)\n",
      "memory usage: 687.6+ KB\n"
     ]
    }
   ],
   "source": [
    "df.info()"
   ]
  },
  {
   "cell_type": "code",
   "execution_count": 75,
   "id": "c1e8c2d8",
   "metadata": {},
   "outputs": [
    {
     "data": {
      "text/html": [
       "<div>\n",
       "<style scoped>\n",
       "    .dataframe tbody tr th:only-of-type {\n",
       "        vertical-align: middle;\n",
       "    }\n",
       "\n",
       "    .dataframe tbody tr th {\n",
       "        vertical-align: top;\n",
       "    }\n",
       "\n",
       "    .dataframe thead th {\n",
       "        text-align: right;\n",
       "    }\n",
       "</style>\n",
       "<table border=\"1\" class=\"dataframe\">\n",
       "  <thead>\n",
       "    <tr style=\"text-align: right;\">\n",
       "      <th></th>\n",
       "      <th>Unnamed: 0</th>\n",
       "      <th>Age</th>\n",
       "      <th>Salary</th>\n",
       "    </tr>\n",
       "  </thead>\n",
       "  <tbody>\n",
       "    <tr>\n",
       "      <th>count</th>\n",
       "      <td>11000.000000</td>\n",
       "      <td>9253.000000</td>\n",
       "      <td>8761.000000</td>\n",
       "    </tr>\n",
       "    <tr>\n",
       "      <th>mean</th>\n",
       "      <td>5012.947818</td>\n",
       "      <td>54.162650</td>\n",
       "      <td>89886.585012</td>\n",
       "    </tr>\n",
       "    <tr>\n",
       "      <th>std</th>\n",
       "      <td>2884.739158</td>\n",
       "      <td>21.072919</td>\n",
       "      <td>34896.320117</td>\n",
       "    </tr>\n",
       "    <tr>\n",
       "      <th>min</th>\n",
       "      <td>0.000000</td>\n",
       "      <td>18.000000</td>\n",
       "      <td>24655.136613</td>\n",
       "    </tr>\n",
       "    <tr>\n",
       "      <th>25%</th>\n",
       "      <td>2509.750000</td>\n",
       "      <td>36.000000</td>\n",
       "      <td>59723.844874</td>\n",
       "    </tr>\n",
       "    <tr>\n",
       "      <th>50%</th>\n",
       "      <td>5024.500000</td>\n",
       "      <td>54.000000</td>\n",
       "      <td>89241.000000</td>\n",
       "    </tr>\n",
       "    <tr>\n",
       "      <th>75%</th>\n",
       "      <td>7510.250000</td>\n",
       "      <td>72.000000</td>\n",
       "      <td>119491.000000</td>\n",
       "    </tr>\n",
       "    <tr>\n",
       "      <th>max</th>\n",
       "      <td>9999.000000</td>\n",
       "      <td>90.000000</td>\n",
       "      <td>176156.206747</td>\n",
       "    </tr>\n",
       "  </tbody>\n",
       "</table>\n",
       "</div>"
      ],
      "text/plain": [
       "         Unnamed: 0          Age         Salary\n",
       "count  11000.000000  9253.000000    8761.000000\n",
       "mean    5012.947818    54.162650   89886.585012\n",
       "std     2884.739158    21.072919   34896.320117\n",
       "min        0.000000    18.000000   24655.136613\n",
       "25%     2509.750000    36.000000   59723.844874\n",
       "50%     5024.500000    54.000000   89241.000000\n",
       "75%     7510.250000    72.000000  119491.000000\n",
       "max     9999.000000    90.000000  176156.206747"
      ]
     },
     "execution_count": 75,
     "metadata": {},
     "output_type": "execute_result"
    }
   ],
   "source": [
    "df.describe()"
   ]
  },
  {
   "cell_type": "code",
   "execution_count": 76,
   "id": "c2951d60",
   "metadata": {},
   "outputs": [
    {
     "data": {
      "text/html": [
       "<div>\n",
       "<style scoped>\n",
       "    .dataframe tbody tr th:only-of-type {\n",
       "        vertical-align: middle;\n",
       "    }\n",
       "\n",
       "    .dataframe tbody tr th {\n",
       "        vertical-align: top;\n",
       "    }\n",
       "\n",
       "    .dataframe thead th {\n",
       "        text-align: right;\n",
       "    }\n",
       "</style>\n",
       "<table border=\"1\" class=\"dataframe\">\n",
       "  <thead>\n",
       "    <tr style=\"text-align: right;\">\n",
       "      <th></th>\n",
       "      <th>count</th>\n",
       "      <th>unique</th>\n",
       "      <th>top</th>\n",
       "      <th>freq</th>\n",
       "    </tr>\n",
       "  </thead>\n",
       "  <tbody>\n",
       "    <tr>\n",
       "      <th>ID</th>\n",
       "      <td>11000</td>\n",
       "      <td>10000</td>\n",
       "      <td>0413800c-975f-4107-908c-f9f733496b3c</td>\n",
       "      <td>2</td>\n",
       "    </tr>\n",
       "    <tr>\n",
       "      <th>Name</th>\n",
       "      <td>8667</td>\n",
       "      <td>7929</td>\n",
       "      <td>Elizabeth Williams</td>\n",
       "      <td>6</td>\n",
       "    </tr>\n",
       "    <tr>\n",
       "      <th>Email</th>\n",
       "      <td>9731</td>\n",
       "      <td>9160</td>\n",
       "      <td>fwilliams@yahoo.com</td>\n",
       "      <td>3</td>\n",
       "    </tr>\n",
       "    <tr>\n",
       "      <th>Join Date</th>\n",
       "      <td>8808</td>\n",
       "      <td>3338</td>\n",
       "      <td>2022-03-31</td>\n",
       "      <td>12</td>\n",
       "    </tr>\n",
       "    <tr>\n",
       "      <th>Department</th>\n",
       "      <td>8745</td>\n",
       "      <td>264</td>\n",
       "      <td>Support</td>\n",
       "      <td>1425</td>\n",
       "    </tr>\n",
       "  </tbody>\n",
       "</table>\n",
       "</div>"
      ],
      "text/plain": [
       "            count unique                                   top  freq\n",
       "ID          11000  10000  0413800c-975f-4107-908c-f9f733496b3c     2\n",
       "Name         8667   7929                    Elizabeth Williams     6\n",
       "Email        9731   9160                   fwilliams@yahoo.com     3\n",
       "Join Date    8808   3338                            2022-03-31    12\n",
       "Department   8745    264                               Support  1425"
      ]
     },
     "execution_count": 76,
     "metadata": {},
     "output_type": "execute_result"
    }
   ],
   "source": [
    "df.describe(include = 'object').transpose()"
   ]
  },
  {
   "cell_type": "markdown",
   "id": "b1537612",
   "metadata": {},
   "source": [
    "* Out of 11,000 records, 10,000 unique IDs suggest potential duplicates.\n",
    "* There are 7,929 unique names, with Elizabeth Williams being the most frequent.\n",
    "* Among 3,338 unique join dates, the top date is 2022-03-31, appearing 12 times."
   ]
  },
  {
   "cell_type": "code",
   "execution_count": 77,
   "id": "9d365238",
   "metadata": {},
   "outputs": [
    {
     "data": {
      "text/plain": [
       "291"
      ]
     },
     "execution_count": 77,
     "metadata": {},
     "output_type": "execute_result"
    }
   ],
   "source": [
    "df.duplicated().sum()"
   ]
  },
  {
   "cell_type": "markdown",
   "id": "11e75fc3",
   "metadata": {},
   "source": [
    "There are 291 duplicate rows"
   ]
  },
  {
   "cell_type": "markdown",
   "id": "6682a08e",
   "metadata": {},
   "source": [
    "## 3. Handle Missing Values"
   ]
  },
  {
   "cell_type": "code",
   "execution_count": 78,
   "id": "6b67ebbf",
   "metadata": {},
   "outputs": [
    {
     "name": "stdout",
     "output_type": "stream",
     "text": [
      "Rows with more than 5 null values:\n"
     ]
    },
    {
     "data": {
      "text/html": [
       "<div>\n",
       "<style scoped>\n",
       "    .dataframe tbody tr th:only-of-type {\n",
       "        vertical-align: middle;\n",
       "    }\n",
       "\n",
       "    .dataframe tbody tr th {\n",
       "        vertical-align: top;\n",
       "    }\n",
       "\n",
       "    .dataframe thead th {\n",
       "        text-align: right;\n",
       "    }\n",
       "</style>\n",
       "<table border=\"1\" class=\"dataframe\">\n",
       "  <thead>\n",
       "    <tr style=\"text-align: right;\">\n",
       "      <th></th>\n",
       "      <th>Unnamed: 0</th>\n",
       "      <th>ID</th>\n",
       "      <th>Name</th>\n",
       "      <th>Age</th>\n",
       "      <th>Email</th>\n",
       "      <th>Join Date</th>\n",
       "      <th>Salary</th>\n",
       "      <th>Department</th>\n",
       "    </tr>\n",
       "  </thead>\n",
       "  <tbody>\n",
       "    <tr>\n",
       "      <th>18</th>\n",
       "      <td>18</td>\n",
       "      <td>05e36d3f-6422-4329-80b2-1fd3543ee254</td>\n",
       "      <td>NaN</td>\n",
       "      <td>NaN</td>\n",
       "      <td>NaN</td>\n",
       "      <td>NaN</td>\n",
       "      <td>NaN</td>\n",
       "      <td>NaN</td>\n",
       "    </tr>\n",
       "    <tr>\n",
       "      <th>19</th>\n",
       "      <td>19</td>\n",
       "      <td>a8b6e8e3-f2f2-42c6-b2d7-2bbfd9b91125</td>\n",
       "      <td>NaN</td>\n",
       "      <td>NaN</td>\n",
       "      <td>NaN</td>\n",
       "      <td>NaN</td>\n",
       "      <td>NaN</td>\n",
       "      <td>NaN</td>\n",
       "    </tr>\n",
       "    <tr>\n",
       "      <th>24</th>\n",
       "      <td>24</td>\n",
       "      <td>3f741e1f-f781-463e-a12a-871d3866c711</td>\n",
       "      <td>NaN</td>\n",
       "      <td>NaN</td>\n",
       "      <td>NaN</td>\n",
       "      <td>NaN</td>\n",
       "      <td>NaN</td>\n",
       "      <td>NaN</td>\n",
       "    </tr>\n",
       "    <tr>\n",
       "      <th>30</th>\n",
       "      <td>30</td>\n",
       "      <td>754d31ea-7749-4d29-b0f1-a8fb908d541c</td>\n",
       "      <td>NaN</td>\n",
       "      <td>NaN</td>\n",
       "      <td>NaN</td>\n",
       "      <td>NaN</td>\n",
       "      <td>NaN</td>\n",
       "      <td>NaN</td>\n",
       "    </tr>\n",
       "    <tr>\n",
       "      <th>40</th>\n",
       "      <td>40</td>\n",
       "      <td>9aa93a07-4dac-4c44-bdde-0424c118041f</td>\n",
       "      <td>NaN</td>\n",
       "      <td>NaN</td>\n",
       "      <td>NaN</td>\n",
       "      <td>NaN</td>\n",
       "      <td>NaN</td>\n",
       "      <td>NaN</td>\n",
       "    </tr>\n",
       "  </tbody>\n",
       "</table>\n",
       "</div>"
      ],
      "text/plain": [
       "    Unnamed: 0                                    ID Name  Age Email  \\\n",
       "18          18  05e36d3f-6422-4329-80b2-1fd3543ee254  NaN  NaN   NaN   \n",
       "19          19  a8b6e8e3-f2f2-42c6-b2d7-2bbfd9b91125  NaN  NaN   NaN   \n",
       "24          24  3f741e1f-f781-463e-a12a-871d3866c711  NaN  NaN   NaN   \n",
       "30          30  754d31ea-7749-4d29-b0f1-a8fb908d541c  NaN  NaN   NaN   \n",
       "40          40  9aa93a07-4dac-4c44-bdde-0424c118041f  NaN  NaN   NaN   \n",
       "\n",
       "   Join Date  Salary Department  \n",
       "18       NaN     NaN        NaN  \n",
       "19       NaN     NaN        NaN  \n",
       "24       NaN     NaN        NaN  \n",
       "30       NaN     NaN        NaN  \n",
       "40       NaN     NaN        NaN  "
      ]
     },
     "execution_count": 78,
     "metadata": {},
     "output_type": "execute_result"
    }
   ],
   "source": [
    "# Let's check rows with more than 5 null values\n",
    "rows_with_many_nulls = df[df.isnull().sum(axis=1) > 5]\n",
    "\n",
    "print(\"Rows with more than 5 null values:\")\n",
    "rows_with_many_nulls.head()"
   ]
  },
  {
   "cell_type": "code",
   "execution_count": 79,
   "id": "68cfe5c3",
   "metadata": {},
   "outputs": [],
   "source": [
    "# remove those rows\n",
    "df = df.dropna(thresh=len(df.columns) - 5)"
   ]
  },
  {
   "cell_type": "code",
   "execution_count": 80,
   "id": "b9dc3516",
   "metadata": {},
   "outputs": [
    {
     "data": {
      "text/plain": [
       "Unnamed: 0       0\n",
       "ID               0\n",
       "Name          1064\n",
       "Age            478\n",
       "Email            0\n",
       "Join Date      923\n",
       "Salary         970\n",
       "Department     986\n",
       "dtype: int64"
      ]
     },
     "execution_count": 80,
     "metadata": {},
     "output_type": "execute_result"
    }
   ],
   "source": [
    "df.isnull().sum()"
   ]
  },
  {
   "cell_type": "code",
   "execution_count": 81,
   "id": "13eb8b17",
   "metadata": {},
   "outputs": [],
   "source": [
    "# Fill missing values with appropriate measures\n",
    "df['Name'] = df['Name'].fillna('Unknown')\n",
    "df['Age'] = df['Age'].fillna(df['Age'].median())\n",
    "df['Salary'] = df['Salary'].fillna(df['Salary'].median())\n",
    "df['Department'] = df['Department'].fillna('Unknown')"
   ]
  },
  {
   "cell_type": "code",
   "execution_count": 82,
   "id": "6c5eb7ad",
   "metadata": {},
   "outputs": [],
   "source": [
    "# Forward fill to fill most of the missing 'Join Date' values\n",
    "df['Join Date'].ffill(inplace=True)\n",
    "\n",
    "# Backward fill to handle any remaining null values\n",
    "df['Join Date'].bfill(inplace=True)"
   ]
  },
  {
   "cell_type": "code",
   "execution_count": 83,
   "id": "be236219",
   "metadata": {},
   "outputs": [
    {
     "data": {
      "text/plain": [
       "Unnamed: 0    0\n",
       "ID            0\n",
       "Name          0\n",
       "Age           0\n",
       "Email         0\n",
       "Join Date     0\n",
       "Salary        0\n",
       "Department    0\n",
       "dtype: int64"
      ]
     },
     "execution_count": 83,
     "metadata": {},
     "output_type": "execute_result"
    }
   ],
   "source": [
    "df.isnull().sum()"
   ]
  },
  {
   "cell_type": "markdown",
   "id": "68e9b9cf",
   "metadata": {},
   "source": [
    "## 4. Remove Duplicates"
   ]
  },
  {
   "cell_type": "code",
   "execution_count": 84,
   "id": "99ce9599",
   "metadata": {},
   "outputs": [
    {
     "data": {
      "text/plain": [
       "0"
      ]
     },
     "execution_count": 84,
     "metadata": {},
     "output_type": "execute_result"
    }
   ],
   "source": [
    "# Remove duplicates\n",
    "df.drop_duplicates(inplace=True)\n",
    "df.duplicated().sum()"
   ]
  },
  {
   "cell_type": "markdown",
   "id": "b277ebde",
   "metadata": {},
   "source": [
    "We have already found there are duplicate ID values, lets explore further"
   ]
  },
  {
   "cell_type": "code",
   "execution_count": 85,
   "id": "e44a5f0c",
   "metadata": {},
   "outputs": [
    {
     "data": {
      "text/html": [
       "<div>\n",
       "<style scoped>\n",
       "    .dataframe tbody tr th:only-of-type {\n",
       "        vertical-align: middle;\n",
       "    }\n",
       "\n",
       "    .dataframe tbody tr th {\n",
       "        vertical-align: top;\n",
       "    }\n",
       "\n",
       "    .dataframe thead th {\n",
       "        text-align: right;\n",
       "    }\n",
       "</style>\n",
       "<table border=\"1\" class=\"dataframe\">\n",
       "  <thead>\n",
       "    <tr style=\"text-align: right;\">\n",
       "      <th></th>\n",
       "      <th>Unnamed: 0</th>\n",
       "      <th>ID</th>\n",
       "      <th>Name</th>\n",
       "      <th>Age</th>\n",
       "      <th>Email</th>\n",
       "      <th>Join Date</th>\n",
       "      <th>Salary</th>\n",
       "      <th>Department</th>\n",
       "    </tr>\n",
       "  </thead>\n",
       "  <tbody>\n",
       "    <tr>\n",
       "      <th>10664</th>\n",
       "      <td>1009</td>\n",
       "      <td>0053781e-61aa-423e-ae39-adc1ee24f24c</td>\n",
       "      <td>Ronald Morganlikely</td>\n",
       "      <td>43.0</td>\n",
       "      <td>chelsea56@richardson.com</td>\n",
       "      <td>2022-01-02</td>\n",
       "      <td>140100.000000</td>\n",
       "      <td>MarketingD</td>\n",
       "    </tr>\n",
       "    <tr>\n",
       "      <th>1009</th>\n",
       "      <td>1009</td>\n",
       "      <td>0053781e-61aa-423e-ae39-adc1ee24f24c</td>\n",
       "      <td>Ronald Morgan</td>\n",
       "      <td>43.0</td>\n",
       "      <td>chelsea56richardson.com</td>\n",
       "      <td>23/02/2020</td>\n",
       "      <td>140100.000000</td>\n",
       "      <td>Marketing</td>\n",
       "    </tr>\n",
       "    <tr>\n",
       "      <th>10065</th>\n",
       "      <td>7942</td>\n",
       "      <td>00ac2b1c-dcc9-4e5f-a72a-b5c5e0fe092e</td>\n",
       "      <td>Tammy Thomas</td>\n",
       "      <td>83.0</td>\n",
       "      <td>vaughnmatthew@moyer-walton.com</td>\n",
       "      <td>2020-03-17</td>\n",
       "      <td>63500.000000</td>\n",
       "      <td>Marketing</td>\n",
       "    </tr>\n",
       "    <tr>\n",
       "      <th>7942</th>\n",
       "      <td>7942</td>\n",
       "      <td>00ac2b1c-dcc9-4e5f-a72a-b5c5e0fe092e</td>\n",
       "      <td>Tammy Thomasbudget</td>\n",
       "      <td>83.0</td>\n",
       "      <td>vaughnmatthew@moyer-walton.com</td>\n",
       "      <td>13/08/1991</td>\n",
       "      <td>63500.000000</td>\n",
       "      <td>Marketing</td>\n",
       "    </tr>\n",
       "    <tr>\n",
       "      <th>9851</th>\n",
       "      <td>9851</td>\n",
       "      <td>00d23202-87b8-49bf-bec4-deea25ca43f4</td>\n",
       "      <td>Kelsey Gutierrezsummer</td>\n",
       "      <td>41.0</td>\n",
       "      <td>lucerohaleyrollins.com</td>\n",
       "      <td>2022-12-03</td>\n",
       "      <td>36948.174044</td>\n",
       "      <td>HR</td>\n",
       "    </tr>\n",
       "    <tr>\n",
       "      <th>10094</th>\n",
       "      <td>9851</td>\n",
       "      <td>00d23202-87b8-49bf-bec4-deea25ca43f4</td>\n",
       "      <td>Kelsey Gutierrezwind</td>\n",
       "      <td>41.0</td>\n",
       "      <td>lucerohaley@rollins.com</td>\n",
       "      <td>2022-08-19</td>\n",
       "      <td>44371.000000</td>\n",
       "      <td>HRT</td>\n",
       "    </tr>\n",
       "    <tr>\n",
       "      <th>7110</th>\n",
       "      <td>7110</td>\n",
       "      <td>011cf560-4320-4c27-8cb4-4588e1924879</td>\n",
       "      <td>Unknown</td>\n",
       "      <td>46.0</td>\n",
       "      <td>devin27@wright.info</td>\n",
       "      <td>2024-05-19</td>\n",
       "      <td>40296.000000</td>\n",
       "      <td>HRZ</td>\n",
       "    </tr>\n",
       "    <tr>\n",
       "      <th>10760</th>\n",
       "      <td>7110</td>\n",
       "      <td>011cf560-4320-4c27-8cb4-4588e1924879</td>\n",
       "      <td>Unknown</td>\n",
       "      <td>46.0</td>\n",
       "      <td>devin27@wright.info</td>\n",
       "      <td>2024-05-19</td>\n",
       "      <td>40296.000000</td>\n",
       "      <td>HRC</td>\n",
       "    </tr>\n",
       "  </tbody>\n",
       "</table>\n",
       "</div>"
      ],
      "text/plain": [
       "       Unnamed: 0                                    ID  \\\n",
       "10664        1009  0053781e-61aa-423e-ae39-adc1ee24f24c   \n",
       "1009         1009  0053781e-61aa-423e-ae39-adc1ee24f24c   \n",
       "10065        7942  00ac2b1c-dcc9-4e5f-a72a-b5c5e0fe092e   \n",
       "7942         7942  00ac2b1c-dcc9-4e5f-a72a-b5c5e0fe092e   \n",
       "9851         9851  00d23202-87b8-49bf-bec4-deea25ca43f4   \n",
       "10094        9851  00d23202-87b8-49bf-bec4-deea25ca43f4   \n",
       "7110         7110  011cf560-4320-4c27-8cb4-4588e1924879   \n",
       "10760        7110  011cf560-4320-4c27-8cb4-4588e1924879   \n",
       "\n",
       "                         Name   Age                           Email  \\\n",
       "10664     Ronald Morganlikely  43.0        chelsea56@richardson.com   \n",
       "1009            Ronald Morgan  43.0         chelsea56richardson.com   \n",
       "10065            Tammy Thomas  83.0  vaughnmatthew@moyer-walton.com   \n",
       "7942       Tammy Thomasbudget  83.0  vaughnmatthew@moyer-walton.com   \n",
       "9851   Kelsey Gutierrezsummer  41.0          lucerohaleyrollins.com   \n",
       "10094    Kelsey Gutierrezwind  41.0         lucerohaley@rollins.com   \n",
       "7110                  Unknown  46.0             devin27@wright.info   \n",
       "10760                 Unknown  46.0             devin27@wright.info   \n",
       "\n",
       "        Join Date         Salary  Department  \n",
       "10664  2022-01-02  140100.000000  MarketingD  \n",
       "1009   23/02/2020  140100.000000   Marketing  \n",
       "10065  2020-03-17   63500.000000   Marketing  \n",
       "7942   13/08/1991   63500.000000   Marketing  \n",
       "9851   2022-12-03   36948.174044          HR  \n",
       "10094  2022-08-19   44371.000000         HRT  \n",
       "7110   2024-05-19   40296.000000         HRZ  \n",
       "10760  2024-05-19   40296.000000         HRC  "
      ]
     },
     "execution_count": 85,
     "metadata": {},
     "output_type": "execute_result"
    }
   ],
   "source": [
    "# Identify duplicate IDs\n",
    "duplicate_ids = df[df.duplicated('ID', keep=False)]\n",
    "\n",
    "# Sort the DataFrame by the ID column to group duplicates together\n",
    "sorted_duplicates = duplicate_ids.sort_values(by='ID')\n",
    "\n",
    "# Print the sorted rows with duplicate IDs\n",
    "sorted_duplicates.head(8)"
   ]
  },
  {
   "cell_type": "markdown",
   "id": "fd427773",
   "metadata": {},
   "source": [
    "lets correct the date format first"
   ]
  },
  {
   "cell_type": "markdown",
   "id": "3e1a217b",
   "metadata": {},
   "source": [
    "## 5. Standardise Date Formats"
   ]
  },
  {
   "cell_type": "code",
   "execution_count": 86,
   "id": "0aa5287c",
   "metadata": {},
   "outputs": [
    {
     "name": "stdout",
     "output_type": "stream",
     "text": [
      "DataFrame after standardizing 'Join Date' format:\n"
     ]
    },
    {
     "data": {
      "text/html": [
       "<div>\n",
       "<style scoped>\n",
       "    .dataframe tbody tr th:only-of-type {\n",
       "        vertical-align: middle;\n",
       "    }\n",
       "\n",
       "    .dataframe tbody tr th {\n",
       "        vertical-align: top;\n",
       "    }\n",
       "\n",
       "    .dataframe thead th {\n",
       "        text-align: right;\n",
       "    }\n",
       "</style>\n",
       "<table border=\"1\" class=\"dataframe\">\n",
       "  <thead>\n",
       "    <tr style=\"text-align: right;\">\n",
       "      <th></th>\n",
       "      <th>Unnamed: 0</th>\n",
       "      <th>ID</th>\n",
       "      <th>Name</th>\n",
       "      <th>Age</th>\n",
       "      <th>Email</th>\n",
       "      <th>Join Date</th>\n",
       "      <th>Salary</th>\n",
       "      <th>Department</th>\n",
       "    </tr>\n",
       "  </thead>\n",
       "  <tbody>\n",
       "    <tr>\n",
       "      <th>0</th>\n",
       "      <td>0</td>\n",
       "      <td>1e407ff9-6255-489d-a0de-34135d4f74bd</td>\n",
       "      <td>Hunter Thomas</td>\n",
       "      <td>25.0</td>\n",
       "      <td>xlopez@hotmail.com</td>\n",
       "      <td>2022-07-07</td>\n",
       "      <td>88552.0</td>\n",
       "      <td>Sales</td>\n",
       "    </tr>\n",
       "    <tr>\n",
       "      <th>1</th>\n",
       "      <td>1</td>\n",
       "      <td>379f55b8-87d5-4739-a146-7400b78c24d1</td>\n",
       "      <td>Jeremy Irwin</td>\n",
       "      <td>90.0</td>\n",
       "      <td>Jillian Jenkins</td>\n",
       "      <td>2022-07-07</td>\n",
       "      <td>139227.0</td>\n",
       "      <td>Unknown</td>\n",
       "    </tr>\n",
       "    <tr>\n",
       "      <th>2</th>\n",
       "      <td>2</td>\n",
       "      <td>18261368-dfa1-47f0-afc6-bddf45926b07</td>\n",
       "      <td>Jennifer Hammondquickly</td>\n",
       "      <td>66.0</td>\n",
       "      <td>jscottgreen.biz</td>\n",
       "      <td>2023-11-21</td>\n",
       "      <td>65550.0</td>\n",
       "      <td>Engineering</td>\n",
       "    </tr>\n",
       "    <tr>\n",
       "      <th>3</th>\n",
       "      <td>3</td>\n",
       "      <td>ae7cf7cf-17cf-4c8b-9c44-4f61a9a238e5</td>\n",
       "      <td>Sydney Taylorso</td>\n",
       "      <td>39.0</td>\n",
       "      <td>luke56gonzalez.com</td>\n",
       "      <td>2021-11-05</td>\n",
       "      <td>139932.0</td>\n",
       "      <td>SupportJ</td>\n",
       "    </tr>\n",
       "    <tr>\n",
       "      <th>4</th>\n",
       "      <td>4</td>\n",
       "      <td>14ed3e6a-e0f5-4bbe-8d93-8665267f5c90</td>\n",
       "      <td>Julia Lee</td>\n",
       "      <td>71.0</td>\n",
       "      <td>figueroakayla@yahoo.com</td>\n",
       "      <td>2021-11-05</td>\n",
       "      <td>143456.0</td>\n",
       "      <td>Marketing</td>\n",
       "    </tr>\n",
       "  </tbody>\n",
       "</table>\n",
       "</div>"
      ],
      "text/plain": [
       "   Unnamed: 0                                    ID                     Name  \\\n",
       "0           0  1e407ff9-6255-489d-a0de-34135d4f74bd            Hunter Thomas   \n",
       "1           1  379f55b8-87d5-4739-a146-7400b78c24d1             Jeremy Irwin   \n",
       "2           2  18261368-dfa1-47f0-afc6-bddf45926b07  Jennifer Hammondquickly   \n",
       "3           3  ae7cf7cf-17cf-4c8b-9c44-4f61a9a238e5          Sydney Taylorso   \n",
       "4           4  14ed3e6a-e0f5-4bbe-8d93-8665267f5c90                Julia Lee   \n",
       "\n",
       "    Age                    Email   Join Date    Salary   Department  \n",
       "0  25.0       xlopez@hotmail.com  2022-07-07   88552.0        Sales  \n",
       "1  90.0          Jillian Jenkins  2022-07-07  139227.0      Unknown  \n",
       "2  66.0          jscottgreen.biz  2023-11-21   65550.0  Engineering  \n",
       "3  39.0       luke56gonzalez.com  2021-11-05  139932.0     SupportJ  \n",
       "4  71.0  figueroakayla@yahoo.com  2021-11-05  143456.0    Marketing  "
      ]
     },
     "execution_count": 86,
     "metadata": {},
     "output_type": "execute_result"
    }
   ],
   "source": [
    "# Convert 'Join Date' to datetime format\n",
    "df['Join Date'] = pd.to_datetime(df['Join Date'], errors='coerce')\n",
    "\n",
    "# Convert datetime format to YYYY-MM-DD string format\n",
    "df['Join Date'] = df['Join Date'].dt.strftime('%Y-%m-%d')\n",
    "\n",
    "print(\"DataFrame after standardizing 'Join Date' format:\")\n",
    "df.head()"
   ]
  },
  {
   "cell_type": "code",
   "execution_count": 87,
   "id": "07d38eb7",
   "metadata": {},
   "outputs": [
    {
     "data": {
      "text/plain": [
       "0"
      ]
     },
     "execution_count": 87,
     "metadata": {},
     "output_type": "execute_result"
    }
   ],
   "source": [
    "df['Join Date'].isna().sum()"
   ]
  },
  {
   "cell_type": "markdown",
   "id": "e09a944e",
   "metadata": {},
   "source": [
    "Let's deal with the rows with duplicate ID"
   ]
  },
  {
   "cell_type": "code",
   "execution_count": 88,
   "id": "b3db3f5d",
   "metadata": {},
   "outputs": [],
   "source": [
    "import re\n",
    "\n",
    "def is_valid_email(email):\n",
    "    pattern = r'^[a-zA-Z0-9._%+-]+@[a-zA-Z0-9.-]+\\.[a-zA-Z]{2,}$'\n",
    "    return bool(re.match(pattern, email))\n",
    "\n",
    "# Function to merge duplicate rows based on specified criteria\n",
    "def merge_duplicates(group):\n",
    "    # Sort group by Join Date to prioritize latest data\n",
    "    group_sorted = group.sort_values(by='Join Date', ascending=False)\n",
    "\n",
    "    # Start with the latest sorted row\n",
    "    merged = group_sorted.iloc[0].copy()\n",
    "\n",
    "    # Iterate through the sorted group to fill missing values and correct information\n",
    "    for _, row in group_sorted.iterrows():\n",
    "        # Name: Keep the name with the least number of characters and non-null values\n",
    "        if pd.notnull(row['Name']) and (pd.isnull(merged['Name']) or len(row['Name']) < len(merged['Name'])):\n",
    "            merged['Name'] = row['Name']\n",
    "\n",
    "        # Email: Keep the email with the correct format and non-null values\n",
    "        if pd.isnull(merged['Email']) or (pd.notnull(row['Email']) and is_valid_email(row['Email'])):\n",
    "            merged['Email'] = row['Email']\n",
    "\n",
    "        # Join Date: Always keep the latest join date and non-null values\n",
    "        merged['Join Date'] = row['Join Date']\n",
    "\n",
    "        # Department: Keep the department with the least number of characters and non-null values\n",
    "        if pd.isnull(merged['Department']) or (pd.notnull(row['Department']) and len(row['Department']) < len(merged['Department'])):\n",
    "            merged['Department'] = row['Department']\n",
    "\n",
    "        # Salary: Update the salary corresponding to the latest join date and non-null values\n",
    "        merged['Salary'] = row['Salary']\n",
    "\n",
    "    return merged"
   ]
  },
  {
   "cell_type": "code",
   "execution_count": 89,
   "id": "9f007555",
   "metadata": {},
   "outputs": [
    {
     "data": {
      "text/html": [
       "<div>\n",
       "<style scoped>\n",
       "    .dataframe tbody tr th:only-of-type {\n",
       "        vertical-align: middle;\n",
       "    }\n",
       "\n",
       "    .dataframe tbody tr th {\n",
       "        vertical-align: top;\n",
       "    }\n",
       "\n",
       "    .dataframe thead th {\n",
       "        text-align: right;\n",
       "    }\n",
       "</style>\n",
       "<table border=\"1\" class=\"dataframe\">\n",
       "  <thead>\n",
       "    <tr style=\"text-align: right;\">\n",
       "      <th></th>\n",
       "      <th>Unnamed: 0</th>\n",
       "      <th>ID</th>\n",
       "      <th>Name</th>\n",
       "      <th>Age</th>\n",
       "      <th>Email</th>\n",
       "      <th>Join Date</th>\n",
       "      <th>Salary</th>\n",
       "      <th>Department</th>\n",
       "    </tr>\n",
       "  </thead>\n",
       "  <tbody>\n",
       "    <tr>\n",
       "      <th>0</th>\n",
       "      <td>4626</td>\n",
       "      <td>0008fab3-6dd9-4c36-8ea1-183d8dbd9228</td>\n",
       "      <td>Kevin Stone</td>\n",
       "      <td>61.0</td>\n",
       "      <td>nancyortega@gmail.com</td>\n",
       "      <td>2021-10-19</td>\n",
       "      <td>139842.0</td>\n",
       "      <td>Engineering</td>\n",
       "    </tr>\n",
       "    <tr>\n",
       "      <th>1</th>\n",
       "      <td>2421</td>\n",
       "      <td>000e34f7-8b09-469d-bb06-dc80c99ff254</td>\n",
       "      <td>Steven Morales</td>\n",
       "      <td>88.0</td>\n",
       "      <td>richard72hotmail.com</td>\n",
       "      <td>2003-02-15</td>\n",
       "      <td>68845.0</td>\n",
       "      <td>Marketing</td>\n",
       "    </tr>\n",
       "    <tr>\n",
       "      <th>2</th>\n",
       "      <td>1355</td>\n",
       "      <td>000ea181-5552-4a36-b151-1d57483b5a31</td>\n",
       "      <td>Natalie Chapman</td>\n",
       "      <td>27.0</td>\n",
       "      <td>aliciawright@yahoo.com</td>\n",
       "      <td>2021-05-22</td>\n",
       "      <td>56616.0</td>\n",
       "      <td>Support</td>\n",
       "    </tr>\n",
       "    <tr>\n",
       "      <th>3</th>\n",
       "      <td>8242</td>\n",
       "      <td>000ebe72-241a-4c74-9bd5-f0b1c0195760</td>\n",
       "      <td>Felicia Simmons</td>\n",
       "      <td>74.0</td>\n",
       "      <td>mlewis@hotmail.com</td>\n",
       "      <td>1983-06-09</td>\n",
       "      <td>62610.0</td>\n",
       "      <td>HR</td>\n",
       "    </tr>\n",
       "    <tr>\n",
       "      <th>4</th>\n",
       "      <td>3419</td>\n",
       "      <td>002a244f-c467-4bec-9ab9-0eea2d1e3626</td>\n",
       "      <td>Travis Garciablack</td>\n",
       "      <td>84.0</td>\n",
       "      <td>gmedina@wilson-scott.com</td>\n",
       "      <td>2020-02-17</td>\n",
       "      <td>49203.0</td>\n",
       "      <td>HR</td>\n",
       "    </tr>\n",
       "    <tr>\n",
       "      <th>...</th>\n",
       "      <td>...</td>\n",
       "      <td>...</td>\n",
       "      <td>...</td>\n",
       "      <td>...</td>\n",
       "      <td>...</td>\n",
       "      <td>...</td>\n",
       "      <td>...</td>\n",
       "      <td>...</td>\n",
       "    </tr>\n",
       "    <tr>\n",
       "      <th>8903</th>\n",
       "      <td>6346</td>\n",
       "      <td>ffe82360-c2a2-4e75-a553-00987100992e</td>\n",
       "      <td>Makayla Andersenteam</td>\n",
       "      <td>54.0</td>\n",
       "      <td>leon97hotmail.com</td>\n",
       "      <td>2023-05-16</td>\n",
       "      <td>31626.0</td>\n",
       "      <td>Engineering</td>\n",
       "    </tr>\n",
       "    <tr>\n",
       "      <th>8904</th>\n",
       "      <td>6045</td>\n",
       "      <td>ffec6404-7edf-463d-8a61-909b38e9c185</td>\n",
       "      <td>Gina Browndown</td>\n",
       "      <td>86.0</td>\n",
       "      <td>joseph11@williams.com</td>\n",
       "      <td>2024-03-01</td>\n",
       "      <td>51202.0</td>\n",
       "      <td>Sales</td>\n",
       "    </tr>\n",
       "    <tr>\n",
       "      <th>8905</th>\n",
       "      <td>1784</td>\n",
       "      <td>fff55723-981a-4646-b95c-1f33543e97d6</td>\n",
       "      <td>Jessica White</td>\n",
       "      <td>48.0</td>\n",
       "      <td>hpope@gmail.com</td>\n",
       "      <td>2021-02-16</td>\n",
       "      <td>89241.0</td>\n",
       "      <td>Marketing</td>\n",
       "    </tr>\n",
       "    <tr>\n",
       "      <th>8906</th>\n",
       "      <td>8705</td>\n",
       "      <td>fff59b6d-2e25-40a4-969d-c808e268b180</td>\n",
       "      <td>Unknown</td>\n",
       "      <td>48.0</td>\n",
       "      <td>michael30@crane.com</td>\n",
       "      <td>1996-09-05</td>\n",
       "      <td>100996.0</td>\n",
       "      <td>Unknown</td>\n",
       "    </tr>\n",
       "    <tr>\n",
       "      <th>8907</th>\n",
       "      <td>7292</td>\n",
       "      <td>ffffcb54-aed9-49fb-9bb7-7a72f335b1d5</td>\n",
       "      <td>Thomas Edwards</td>\n",
       "      <td>66.0</td>\n",
       "      <td>sgill@harris-murillo.info</td>\n",
       "      <td>2012-02-25</td>\n",
       "      <td>58630.0</td>\n",
       "      <td>Support</td>\n",
       "    </tr>\n",
       "  </tbody>\n",
       "</table>\n",
       "<p>8908 rows × 8 columns</p>\n",
       "</div>"
      ],
      "text/plain": [
       "      Unnamed: 0                                    ID                  Name  \\\n",
       "0           4626  0008fab3-6dd9-4c36-8ea1-183d8dbd9228           Kevin Stone   \n",
       "1           2421  000e34f7-8b09-469d-bb06-dc80c99ff254        Steven Morales   \n",
       "2           1355  000ea181-5552-4a36-b151-1d57483b5a31       Natalie Chapman   \n",
       "3           8242  000ebe72-241a-4c74-9bd5-f0b1c0195760       Felicia Simmons   \n",
       "4           3419  002a244f-c467-4bec-9ab9-0eea2d1e3626    Travis Garciablack   \n",
       "...          ...                                   ...                   ...   \n",
       "8903        6346  ffe82360-c2a2-4e75-a553-00987100992e  Makayla Andersenteam   \n",
       "8904        6045  ffec6404-7edf-463d-8a61-909b38e9c185        Gina Browndown   \n",
       "8905        1784  fff55723-981a-4646-b95c-1f33543e97d6         Jessica White   \n",
       "8906        8705  fff59b6d-2e25-40a4-969d-c808e268b180               Unknown   \n",
       "8907        7292  ffffcb54-aed9-49fb-9bb7-7a72f335b1d5        Thomas Edwards   \n",
       "\n",
       "       Age                      Email   Join Date    Salary   Department  \n",
       "0     61.0      nancyortega@gmail.com  2021-10-19  139842.0  Engineering  \n",
       "1     88.0       richard72hotmail.com  2003-02-15   68845.0    Marketing  \n",
       "2     27.0     aliciawright@yahoo.com  2021-05-22   56616.0      Support  \n",
       "3     74.0         mlewis@hotmail.com  1983-06-09   62610.0           HR  \n",
       "4     84.0   gmedina@wilson-scott.com  2020-02-17   49203.0           HR  \n",
       "...    ...                        ...         ...       ...          ...  \n",
       "8903  54.0          leon97hotmail.com  2023-05-16   31626.0  Engineering  \n",
       "8904  86.0      joseph11@williams.com  2024-03-01   51202.0        Sales  \n",
       "8905  48.0            hpope@gmail.com  2021-02-16   89241.0    Marketing  \n",
       "8906  48.0        michael30@crane.com  1996-09-05  100996.0      Unknown  \n",
       "8907  66.0  sgill@harris-murillo.info  2012-02-25   58630.0      Support  \n",
       "\n",
       "[8908 rows x 8 columns]"
      ]
     },
     "execution_count": 89,
     "metadata": {},
     "output_type": "execute_result"
    }
   ],
   "source": [
    "# Find duplicate IDs\n",
    "duplicate_ids = df[df.duplicated(subset='ID', keep=False)]['ID'].unique()\n",
    "\n",
    "# List to store cleaned rows\n",
    "cleaned_rows = []\n",
    "\n",
    "# Group by 'ID' and apply merge_duplicates only on rows with duplicate IDs\n",
    "for _, group in df.groupby('ID'):\n",
    "    if group['ID'].iloc[0] in duplicate_ids:\n",
    "        cleaned_row = merge_duplicates(group)\n",
    "        cleaned_rows.append(cleaned_row)\n",
    "    else:\n",
    "        cleaned_rows.extend(group.to_dict('records'))  # Add non-duplicate rows as they are\n",
    "\n",
    "# Create a new DataFrame with cleaned rows\n",
    "cleaned_df = pd.DataFrame(cleaned_rows)\n",
    "\n",
    "# Update original df to include cleaned rows\n",
    "df = cleaned_df\n",
    "\n",
    "df"
   ]
  },
  {
   "cell_type": "code",
   "execution_count": 90,
   "id": "3a03823c",
   "metadata": {},
   "outputs": [
    {
     "data": {
      "text/html": [
       "<div>\n",
       "<style scoped>\n",
       "    .dataframe tbody tr th:only-of-type {\n",
       "        vertical-align: middle;\n",
       "    }\n",
       "\n",
       "    .dataframe tbody tr th {\n",
       "        vertical-align: top;\n",
       "    }\n",
       "\n",
       "    .dataframe thead th {\n",
       "        text-align: right;\n",
       "    }\n",
       "</style>\n",
       "<table border=\"1\" class=\"dataframe\">\n",
       "  <thead>\n",
       "    <tr style=\"text-align: right;\">\n",
       "      <th></th>\n",
       "      <th>Unnamed: 0</th>\n",
       "      <th>ID</th>\n",
       "      <th>Name</th>\n",
       "      <th>Age</th>\n",
       "      <th>Email</th>\n",
       "      <th>Join Date</th>\n",
       "      <th>Salary</th>\n",
       "      <th>Department</th>\n",
       "    </tr>\n",
       "  </thead>\n",
       "  <tbody>\n",
       "  </tbody>\n",
       "</table>\n",
       "</div>"
      ],
      "text/plain": [
       "Empty DataFrame\n",
       "Columns: [Unnamed: 0, ID, Name, Age, Email, Join Date, Salary, Department]\n",
       "Index: []"
      ]
     },
     "execution_count": 90,
     "metadata": {},
     "output_type": "execute_result"
    }
   ],
   "source": [
    "df[df.duplicated('ID', keep=False)]"
   ]
  },
  {
   "cell_type": "markdown",
   "id": "28d47c67",
   "metadata": {},
   "source": [
    "Now there are no rows with duplicate ID"
   ]
  },
  {
   "cell_type": "markdown",
   "id": "4a651fb7",
   "metadata": {},
   "source": [
    "## 6. Correct Email Formats"
   ]
  },
  {
   "cell_type": "code",
   "execution_count": 91,
   "id": "86737f6e",
   "metadata": {},
   "outputs": [],
   "source": [
    "def is_valid_email(email):\n",
    "    pattern = r'^[a-zA-Z0-9._%+-]+@[a-zA-Z0-9.-]+\\.[a-zA-Z]{2,}$'\n",
    "    return re.match(pattern, email)\n",
    "\n",
    "df['Email'] = df['Email'].apply(lambda x: x if is_valid_email(x) else 'invalid@example.com')"
   ]
  },
  {
   "cell_type": "markdown",
   "id": "6d308441",
   "metadata": {},
   "source": [
    "## 7. Clean Name Fields"
   ]
  },
  {
   "cell_type": "code",
   "execution_count": 92,
   "id": "3e1cb076",
   "metadata": {},
   "outputs": [
    {
     "data": {
      "text/plain": [
       "30      Sandra Rivera DDSthing\n",
       "31             Catherine Cowan\n",
       "32              Amber Delacruz\n",
       "33                Joshua Allen\n",
       "34      Christine Cummingstime\n",
       "35    Victoria Perrypopulation\n",
       "36              Melissa Castro\n",
       "37                     Unknown\n",
       "38               Michael Riley\n",
       "39                 Richard Lee\n",
       "Name: Name, dtype: object"
      ]
     },
     "execution_count": 92,
     "metadata": {},
     "output_type": "execute_result"
    }
   ],
   "source": [
    "df['Name'].iloc[30:40]"
   ]
  },
  {
   "cell_type": "code",
   "execution_count": 93,
   "id": "2b7c81c8",
   "metadata": {},
   "outputs": [],
   "source": [
    "# Function to clean names\n",
    "def clean_name(name):\n",
    "    # Remove uppercase letters at the end\n",
    "    while name and name[-1].isupper():\n",
    "        name = name[:-1]\n",
    "    \n",
    "    # Remove trailing spaces\n",
    "    name = name.strip()\n",
    "    \n",
    "    # Split the cleaned name into words\n",
    "    words = name.split()\n",
    "    \n",
    "    # If there are more than two words, remove the last word and return\n",
    "    if len(words) > 2:\n",
    "        cleaned_name = ' '.join(words[:-1])\n",
    "        return cleaned_name.strip()\n",
    "    \n",
    "    # If exactly two words, check if the second word is longer than 8 characters\n",
    "    if len(words) == 2 and len(words[1]) > 8:\n",
    "        cleaned_name = words[0]\n",
    "    else:\n",
    "        cleaned_name = name\n",
    "    \n",
    "    return cleaned_name.strip()"
   ]
  },
  {
   "cell_type": "code",
   "execution_count": 94,
   "id": "5f9cae11",
   "metadata": {},
   "outputs": [],
   "source": [
    "# Clean the 'Name' column\n",
    "df['Name'] = df['Name'].apply(clean_name)"
   ]
  },
  {
   "cell_type": "code",
   "execution_count": 95,
   "id": "0c9bd7dd",
   "metadata": {},
   "outputs": [
    {
     "data": {
      "text/plain": [
       "45          Sheila Lee\n",
       "46       Barbara Heath\n",
       "47         Shane Lyons\n",
       "48       Alicia Watson\n",
       "49    Marcus Fernandez\n",
       "50          Gina Adams\n",
       "51       Ronald Murphy\n",
       "52           Jose Lynn\n",
       "53             Valerie\n",
       "54          Emma Clark\n",
       "55         Terry Wells\n",
       "56        Michael Dyer\n",
       "57     Meredith Nguyen\n",
       "58            Mitchell\n",
       "59     Donald Williams\n",
       "Name: Name, dtype: object"
      ]
     },
     "execution_count": 95,
     "metadata": {},
     "output_type": "execute_result"
    }
   ],
   "source": [
    "df['Name'].iloc[45:60]"
   ]
  },
  {
   "cell_type": "markdown",
   "id": "243af455",
   "metadata": {},
   "source": [
    "## 8.Correct Department Names"
   ]
  },
  {
   "cell_type": "code",
   "execution_count": 96,
   "id": "8e39a4b4",
   "metadata": {},
   "outputs": [
    {
     "data": {
      "text/plain": [
       "array(['Engineering', 'Marketing', 'Support', 'HR', 'Unknown', 'SalesE',\n",
       "       'HRp', 'SupportY', 'Sales', 'SupportQ', 'HRr', 'HRZ',\n",
       "       'EngineeringS', 'SupportS', 'HRl', 'HRf', 'Salesz', 'Engineeringl',\n",
       "       'SupportA', 'Supportl', 'Engineeringm', 'SupportX', 'MarketingN',\n",
       "       'EngineeringT', 'Engineeringn', 'Supportk', 'SalesJ',\n",
       "       'Engineeringq', 'EngineeringB', 'MarketingE', 'MarketingO',\n",
       "       'Supporty', 'MarketingV', 'HRB', 'EngineeringR', 'MarketingX',\n",
       "       'HRJ', 'Supportu', 'SupportD', 'EngineeringF', 'Engineeringt',\n",
       "       'Marketingr', 'EngineeringU', 'HRk', 'SalesO', 'HRm', 'Supportd',\n",
       "       'SalesB', 'Supportw', 'EngineeringD', 'HRy', 'Supportf',\n",
       "       'EngineeringP', 'Supportc', 'MarketingS', 'SupportB', 'Supportg',\n",
       "       'HRv', 'HRa', 'SalesZ', 'Engineeringa', 'SupportH', 'EngineeringM',\n",
       "       'EngineeringE', 'Engineeringb', 'MarketingK', 'Salesq', 'SalesR',\n",
       "       'SalesY', 'Supportm', 'Salesw', 'Salesm', 'HRE', 'Marketingq',\n",
       "       'MarketingC', 'HRU', 'Salesj', 'Marketingv', 'SupportO', 'SalesF',\n",
       "       'MarketingR', 'SupportI', 'Marketingy', 'Engineeringx',\n",
       "       'EngineeringK', 'Salesv', 'EngineeringV', 'EngineeringX',\n",
       "       'MarketingD', 'Supportq', 'HRu', 'Supportj', 'Supportp', 'HRi',\n",
       "       'Marketingl', 'EngineeringO', 'HRw', 'SalesQ', 'EngineeringQ',\n",
       "       'SupportK', 'SalesK', 'HRF', 'Marketinge', 'HRT', 'SupportT',\n",
       "       'HRQ', 'Supporta', 'Engineeringk', 'Marketingz', 'Engineeringi',\n",
       "       'HRh', 'EngineeringZ', 'Marketingi', 'Engineeringv', 'SalesI',\n",
       "       'SupportM', 'HRs', 'Marketinga', 'Salesn', 'SupportE',\n",
       "       'EngineeringI', 'SalesC', 'MarketingF', 'Marketingm', 'Marketingd',\n",
       "       'Marketingp', 'SalesS', 'EngineeringW', 'HRN', 'Marketingk',\n",
       "       'Supportz', 'HRd', 'MarketingM', 'SupportR', 'Salesu', 'HRK',\n",
       "       'Supporte', 'MarketingY', 'Engineeringj', 'EngineeringJ',\n",
       "       'Marketingb', 'EngineeringG', 'HRg', 'SalesD', 'MarketingH',\n",
       "       'Engineeringh', 'Salesa', 'Saless', 'Supports', 'Salest',\n",
       "       'Engineeringz', 'HRC', 'HRY', 'HRA', 'HRI', 'SalesV', 'Marketingx',\n",
       "       'Marketingf', 'SalesX', 'Engineerings', 'Salesc', 'SalesT',\n",
       "       'MarketingT', 'SalesA', 'HRX', 'HRb', 'MarketingJ', 'Engineeringf',\n",
       "       'Salesx', 'EngineeringA', 'SalesM', 'SalesG', 'Salesk',\n",
       "       'MarketingI', 'Engineeringu', 'Marketingu', 'SupportV',\n",
       "       'Marketingc', 'MarketingL', 'SupportP', 'Salesp', 'SalesW',\n",
       "       'Salesy', 'MarketingZ', 'Engineeringe', 'Engineeringw', 'SupportZ',\n",
       "       'Marketings', 'EngineeringL', 'Engineeringy', 'Marketingj',\n",
       "       'Saleso', 'Engineeringo', 'HRG', 'HRj', 'Engineeringr',\n",
       "       'Marketingn', 'Marketingo', 'Supportx', 'HRV', 'SupportN', 'HRe',\n",
       "       'Supportb', 'SalesH', 'Marketingw', 'HRt', 'SalesU', 'SupportF',\n",
       "       'MarketingB', 'HRH', 'SalesL', 'Salesr', 'Salesi', 'Marketingh',\n",
       "       'Supportv', 'Salesf', 'HRz', 'MarketingU', 'SupportW', 'SupportL',\n",
       "       'Engineeringg', 'Supporto', 'MarketingG', 'Supportt', 'Supportn',\n",
       "       'HRq', 'Salesl', 'Engineeringp', 'Engineeringc', 'Salesg', 'HRM',\n",
       "       'HRP', 'Supporti', 'HRW', 'HRo', 'HRR', 'EngineeringN', 'HRD',\n",
       "       'SupportC', 'HRn', 'Salese', 'Salesb', 'Engineeringd', 'SupportG',\n",
       "       'Marketingt', 'SalesN', 'MarketingW', 'SupportU', 'HRS', 'HRx',\n",
       "       'MarketingP', 'Supportr', 'Supporth', 'Marketingg', 'HRc',\n",
       "       'MarketingQ', 'HRL', 'EngineeringC', 'SupportJ', 'Salesd', 'HRO',\n",
       "       'EngineeringH', 'Salesh', 'SalesP'], dtype=object)"
      ]
     },
     "execution_count": 96,
     "metadata": {},
     "output_type": "execute_result"
    }
   ],
   "source": [
    "df[\"Department\"].unique()"
   ]
  },
  {
   "cell_type": "code",
   "execution_count": 97,
   "id": "5c252317",
   "metadata": {},
   "outputs": [],
   "source": [
    "# Common department values to keep\n",
    "common_departments = ['Unknown', 'Marketing', 'Support', 'Sales', 'Engineering', 'HR']\n",
    "\n",
    "# Function to clean department names\n",
    "def clean_department(department):\n",
    "    for common_dept in common_departments:\n",
    "        if department.startswith(common_dept):\n",
    "            return common_dept\n",
    "    return department  # Return original if not found in common departments"
   ]
  },
  {
   "cell_type": "code",
   "execution_count": 98,
   "id": "d49685d8",
   "metadata": {},
   "outputs": [],
   "source": [
    "# Clean the 'Department' column\n",
    "df['Department'] = df['Department'].apply(clean_department)"
   ]
  },
  {
   "cell_type": "code",
   "execution_count": 99,
   "id": "a42346af",
   "metadata": {},
   "outputs": [
    {
     "data": {
      "text/plain": [
       "array(['Engineering', 'Marketing', 'Support', 'HR', 'Unknown', 'Sales'],\n",
       "      dtype=object)"
      ]
     },
     "execution_count": 99,
     "metadata": {},
     "output_type": "execute_result"
    }
   ],
   "source": [
    "df[\"Department\"].unique()"
   ]
  },
  {
   "cell_type": "markdown",
   "id": "387c6abb",
   "metadata": {},
   "source": [
    "## 9. Handle Salary Noise"
   ]
  },
  {
   "cell_type": "code",
   "execution_count": 100,
   "id": "99640187",
   "metadata": {},
   "outputs": [
    {
     "data": {
      "text/plain": [
       "0       139842.0\n",
       "1        68845.0\n",
       "2        56616.0\n",
       "3        62610.0\n",
       "4        49203.0\n",
       "          ...   \n",
       "8903     31626.0\n",
       "8904     51202.0\n",
       "8905     89241.0\n",
       "8906    100996.0\n",
       "8907     58630.0\n",
       "Name: Salary, Length: 8908, dtype: float64"
      ]
     },
     "execution_count": 100,
     "metadata": {},
     "output_type": "execute_result"
    }
   ],
   "source": [
    "df['Salary']"
   ]
  },
  {
   "cell_type": "code",
   "execution_count": 101,
   "id": "7a57ec2a",
   "metadata": {},
   "outputs": [
    {
     "data": {
      "image/png": "[encoded data removed]",
      "text/plain": [
       "<Figure size 400x400 with 1 Axes>"
      ]
     },
     "metadata": {},
     "output_type": "display_data"
    }
   ],
   "source": [
    "plt.figure(figsize=(4, 4))\n",
    "sns.boxplot(y=df['Salary'])\n",
    "plt.title('Boxplot of Salary')\n",
    "plt.xlabel('Salary')\n",
    "plt.show()"
   ]
  },
  {
   "cell_type": "markdown",
   "id": "66df4a3a",
   "metadata": {},
   "source": [
    "There are no outliers visible"
   ]
  },
  {
   "cell_type": "code",
   "execution_count": 102,
   "id": "b1e13ebb",
   "metadata": {},
   "outputs": [
    {
     "data": {
      "text/plain": [
       "count      8908.000000\n",
       "mean      89823.885961\n",
       "std       33088.510990\n",
       "min       24655.136613\n",
       "25%       63123.250000\n",
       "50%       89241.000000\n",
       "75%      116237.270695\n",
       "max      176156.206747\n",
       "Name: Salary, dtype: float64"
      ]
     },
     "execution_count": 102,
     "metadata": {},
     "output_type": "execute_result"
    }
   ],
   "source": [
    "# Summary statistics\n",
    "df['Salary'].describe()"
   ]
  },
  {
   "cell_type": "code",
   "execution_count": 103,
   "id": "0c424c5d",
   "metadata": {},
   "outputs": [
    {
     "data": {
      "image/png": "[encoded data removed]",
      "text/plain": [
       "<Figure size 600x400 with 1 Axes>"
      ]
     },
     "metadata": {},
     "output_type": "display_data"
    }
   ],
   "source": [
    "# Histogram to visualize distribution\n",
    "plt.figure(figsize=(6, 4))\n",
    "sns.histplot(data=df['Salary'], kde=True)\n",
    "plt.title('Distribution of Salary')\n",
    "plt.xlabel('Salary')\n",
    "plt.ylabel('Frequency')\n",
    "plt.show()"
   ]
  },
  {
   "cell_type": "code",
   "execution_count": 104,
   "id": "fc4bb7fe",
   "metadata": {},
   "outputs": [],
   "source": [
    "# Round Salary Values to the nearest integer and remove decimal points\n",
    "df['Salary'] = df['Salary'].round(0).astype(int)"
   ]
  },
  {
   "cell_type": "code",
   "execution_count": 105,
   "id": "12e3c603",
   "metadata": {},
   "outputs": [
    {
     "data": {
      "text/html": [
       "<div>\n",
       "<style scoped>\n",
       "    .dataframe tbody tr th:only-of-type {\n",
       "        vertical-align: middle;\n",
       "    }\n",
       "\n",
       "    .dataframe tbody tr th {\n",
       "        vertical-align: top;\n",
       "    }\n",
       "\n",
       "    .dataframe thead th {\n",
       "        text-align: right;\n",
       "    }\n",
       "</style>\n",
       "<table border=\"1\" class=\"dataframe\">\n",
       "  <thead>\n",
       "    <tr style=\"text-align: right;\">\n",
       "      <th></th>\n",
       "      <th>Unnamed: 0</th>\n",
       "      <th>ID</th>\n",
       "      <th>Name</th>\n",
       "      <th>Age</th>\n",
       "      <th>Email</th>\n",
       "      <th>Join Date</th>\n",
       "      <th>Salary</th>\n",
       "      <th>Department</th>\n",
       "    </tr>\n",
       "  </thead>\n",
       "  <tbody>\n",
       "    <tr>\n",
       "      <th>0</th>\n",
       "      <td>4626</td>\n",
       "      <td>0008fab3-6dd9-4c36-8ea1-183d8dbd9228</td>\n",
       "      <td>Kevin Stone</td>\n",
       "      <td>61.0</td>\n",
       "      <td>nancyortega@gmail.com</td>\n",
       "      <td>2021-10-19</td>\n",
       "      <td>139842</td>\n",
       "      <td>Engineering</td>\n",
       "    </tr>\n",
       "    <tr>\n",
       "      <th>1</th>\n",
       "      <td>2421</td>\n",
       "      <td>000e34f7-8b09-469d-bb06-dc80c99ff254</td>\n",
       "      <td>Steven Morales</td>\n",
       "      <td>88.0</td>\n",
       "      <td>invalid@example.com</td>\n",
       "      <td>2003-02-15</td>\n",
       "      <td>68845</td>\n",
       "      <td>Marketing</td>\n",
       "    </tr>\n",
       "    <tr>\n",
       "      <th>2</th>\n",
       "      <td>1355</td>\n",
       "      <td>000ea181-5552-4a36-b151-1d57483b5a31</td>\n",
       "      <td>Natalie Chapman</td>\n",
       "      <td>27.0</td>\n",
       "      <td>aliciawright@yahoo.com</td>\n",
       "      <td>2021-05-22</td>\n",
       "      <td>56616</td>\n",
       "      <td>Support</td>\n",
       "    </tr>\n",
       "    <tr>\n",
       "      <th>3</th>\n",
       "      <td>8242</td>\n",
       "      <td>000ebe72-241a-4c74-9bd5-f0b1c0195760</td>\n",
       "      <td>Felicia Simmons</td>\n",
       "      <td>74.0</td>\n",
       "      <td>mlewis@hotmail.com</td>\n",
       "      <td>1983-06-09</td>\n",
       "      <td>62610</td>\n",
       "      <td>HR</td>\n",
       "    </tr>\n",
       "    <tr>\n",
       "      <th>4</th>\n",
       "      <td>3419</td>\n",
       "      <td>002a244f-c467-4bec-9ab9-0eea2d1e3626</td>\n",
       "      <td>Travis</td>\n",
       "      <td>84.0</td>\n",
       "      <td>gmedina@wilson-scott.com</td>\n",
       "      <td>2020-02-17</td>\n",
       "      <td>49203</td>\n",
       "      <td>HR</td>\n",
       "    </tr>\n",
       "  </tbody>\n",
       "</table>\n",
       "</div>"
      ],
      "text/plain": [
       "   Unnamed: 0                                    ID             Name   Age  \\\n",
       "0        4626  0008fab3-6dd9-4c36-8ea1-183d8dbd9228      Kevin Stone  61.0   \n",
       "1        2421  000e34f7-8b09-469d-bb06-dc80c99ff254   Steven Morales  88.0   \n",
       "2        1355  000ea181-5552-4a36-b151-1d57483b5a31  Natalie Chapman  27.0   \n",
       "3        8242  000ebe72-241a-4c74-9bd5-f0b1c0195760  Felicia Simmons  74.0   \n",
       "4        3419  002a244f-c467-4bec-9ab9-0eea2d1e3626           Travis  84.0   \n",
       "\n",
       "                      Email   Join Date  Salary   Department  \n",
       "0     nancyortega@gmail.com  2021-10-19  139842  Engineering  \n",
       "1       invalid@example.com  2003-02-15   68845    Marketing  \n",
       "2    aliciawright@yahoo.com  2021-05-22   56616      Support  \n",
       "3        mlewis@hotmail.com  1983-06-09   62610           HR  \n",
       "4  gmedina@wilson-scott.com  2020-02-17   49203           HR  "
      ]
     },
     "execution_count": 105,
     "metadata": {},
     "output_type": "execute_result"
    }
   ],
   "source": [
    "df.head()"
   ]
  },
  {
   "cell_type": "code",
   "execution_count": 106,
   "id": "f7cff3ac",
   "metadata": {},
   "outputs": [],
   "source": [
    "# Lets sort the DataFrame by 'Unnamed: 0' column\n",
    "df_sorted = df.sort_values(by='Unnamed: 0').reset_index(drop=True)"
   ]
  },
  {
   "cell_type": "code",
   "execution_count": 107,
   "id": "21c104e7",
   "metadata": {},
   "outputs": [
    {
     "data": {
      "text/html": [
       "<div>\n",
       "<style scoped>\n",
       "    .dataframe tbody tr th:only-of-type {\n",
       "        vertical-align: middle;\n",
       "    }\n",
       "\n",
       "    .dataframe tbody tr th {\n",
       "        vertical-align: top;\n",
       "    }\n",
       "\n",
       "    .dataframe thead th {\n",
       "        text-align: right;\n",
       "    }\n",
       "</style>\n",
       "<table border=\"1\" class=\"dataframe\">\n",
       "  <thead>\n",
       "    <tr style=\"text-align: right;\">\n",
       "      <th></th>\n",
       "      <th>Unnamed: 0</th>\n",
       "      <th>ID</th>\n",
       "      <th>Name</th>\n",
       "      <th>Age</th>\n",
       "      <th>Email</th>\n",
       "      <th>Join Date</th>\n",
       "      <th>Salary</th>\n",
       "      <th>Department</th>\n",
       "    </tr>\n",
       "  </thead>\n",
       "  <tbody>\n",
       "    <tr>\n",
       "      <th>0</th>\n",
       "      <td>0</td>\n",
       "      <td>1e407ff9-6255-489d-a0de-34135d4f74bd</td>\n",
       "      <td>Hunter Thomas</td>\n",
       "      <td>25.0</td>\n",
       "      <td>xlopez@hotmail.com</td>\n",
       "      <td>2022-07-07</td>\n",
       "      <td>88552</td>\n",
       "      <td>Sales</td>\n",
       "    </tr>\n",
       "    <tr>\n",
       "      <th>1</th>\n",
       "      <td>1</td>\n",
       "      <td>379f55b8-87d5-4739-a146-7400b78c24d1</td>\n",
       "      <td>Jeremy Irwin</td>\n",
       "      <td>90.0</td>\n",
       "      <td>invalid@example.com</td>\n",
       "      <td>2022-07-07</td>\n",
       "      <td>139227</td>\n",
       "      <td>Unknown</td>\n",
       "    </tr>\n",
       "    <tr>\n",
       "      <th>2</th>\n",
       "      <td>2</td>\n",
       "      <td>18261368-dfa1-47f0-afc6-bddf45926b07</td>\n",
       "      <td>Jennifer</td>\n",
       "      <td>66.0</td>\n",
       "      <td>invalid@example.com</td>\n",
       "      <td>2023-11-21</td>\n",
       "      <td>65550</td>\n",
       "      <td>Engineering</td>\n",
       "    </tr>\n",
       "    <tr>\n",
       "      <th>3</th>\n",
       "      <td>3</td>\n",
       "      <td>ae7cf7cf-17cf-4c8b-9c44-4f61a9a238e5</td>\n",
       "      <td>Sydney Taylorso</td>\n",
       "      <td>39.0</td>\n",
       "      <td>invalid@example.com</td>\n",
       "      <td>2021-11-05</td>\n",
       "      <td>139932</td>\n",
       "      <td>Support</td>\n",
       "    </tr>\n",
       "    <tr>\n",
       "      <th>4</th>\n",
       "      <td>4</td>\n",
       "      <td>14ed3e6a-e0f5-4bbe-8d93-8665267f5c90</td>\n",
       "      <td>Julia Lee</td>\n",
       "      <td>71.0</td>\n",
       "      <td>figueroakayla@yahoo.com</td>\n",
       "      <td>2021-11-05</td>\n",
       "      <td>143456</td>\n",
       "      <td>Marketing</td>\n",
       "    </tr>\n",
       "    <tr>\n",
       "      <th>...</th>\n",
       "      <td>...</td>\n",
       "      <td>...</td>\n",
       "      <td>...</td>\n",
       "      <td>...</td>\n",
       "      <td>...</td>\n",
       "      <td>...</td>\n",
       "      <td>...</td>\n",
       "      <td>...</td>\n",
       "    </tr>\n",
       "    <tr>\n",
       "      <th>8903</th>\n",
       "      <td>9995</td>\n",
       "      <td>610210a0-e344-4b79-95ce-ff6583d7d8ce</td>\n",
       "      <td>David</td>\n",
       "      <td>70.0</td>\n",
       "      <td>jeremybanks@rogers.biz</td>\n",
       "      <td>2020-12-17</td>\n",
       "      <td>88472</td>\n",
       "      <td>Support</td>\n",
       "    </tr>\n",
       "    <tr>\n",
       "      <th>8904</th>\n",
       "      <td>9996</td>\n",
       "      <td>eb66531c-901a-4da7-bc60-a4951886b5a8</td>\n",
       "      <td>Karen Yoder</td>\n",
       "      <td>59.0</td>\n",
       "      <td>smithdaniel@williams-thompson.net</td>\n",
       "      <td>2023-12-12</td>\n",
       "      <td>71575</td>\n",
       "      <td>Unknown</td>\n",
       "    </tr>\n",
       "    <tr>\n",
       "      <th>8905</th>\n",
       "      <td>9997</td>\n",
       "      <td>86a83f25-224d-498d-9901-c2e4a49ffbd2</td>\n",
       "      <td>Anthony</td>\n",
       "      <td>57.0</td>\n",
       "      <td>nfranklin@yahoo.com</td>\n",
       "      <td>1979-05-12</td>\n",
       "      <td>128456</td>\n",
       "      <td>Marketing</td>\n",
       "    </tr>\n",
       "    <tr>\n",
       "      <th>8906</th>\n",
       "      <td>9998</td>\n",
       "      <td>9cbba425-6af2-455f-8566-62402de79661</td>\n",
       "      <td>Nicole Moore</td>\n",
       "      <td>82.0</td>\n",
       "      <td>lmyers@gmail.com</td>\n",
       "      <td>2020-10-28</td>\n",
       "      <td>128939</td>\n",
       "      <td>Engineering</td>\n",
       "    </tr>\n",
       "    <tr>\n",
       "      <th>8907</th>\n",
       "      <td>9999</td>\n",
       "      <td>ae6eee4d-ca8f-4932-96f1-487230875968</td>\n",
       "      <td>Steven Gilbert</td>\n",
       "      <td>18.0</td>\n",
       "      <td>cjones@yahoo.com</td>\n",
       "      <td>2022-06-01</td>\n",
       "      <td>101447</td>\n",
       "      <td>HR</td>\n",
       "    </tr>\n",
       "  </tbody>\n",
       "</table>\n",
       "<p>8908 rows × 8 columns</p>\n",
       "</div>"
      ],
      "text/plain": [
       "      Unnamed: 0                                    ID             Name   Age  \\\n",
       "0              0  1e407ff9-6255-489d-a0de-34135d4f74bd    Hunter Thomas  25.0   \n",
       "1              1  379f55b8-87d5-4739-a146-7400b78c24d1     Jeremy Irwin  90.0   \n",
       "2              2  18261368-dfa1-47f0-afc6-bddf45926b07         Jennifer  66.0   \n",
       "3              3  ae7cf7cf-17cf-4c8b-9c44-4f61a9a238e5  Sydney Taylorso  39.0   \n",
       "4              4  14ed3e6a-e0f5-4bbe-8d93-8665267f5c90        Julia Lee  71.0   \n",
       "...          ...                                   ...              ...   ...   \n",
       "8903        9995  610210a0-e344-4b79-95ce-ff6583d7d8ce            David  70.0   \n",
       "8904        9996  eb66531c-901a-4da7-bc60-a4951886b5a8      Karen Yoder  59.0   \n",
       "8905        9997  86a83f25-224d-498d-9901-c2e4a49ffbd2          Anthony  57.0   \n",
       "8906        9998  9cbba425-6af2-455f-8566-62402de79661     Nicole Moore  82.0   \n",
       "8907        9999  ae6eee4d-ca8f-4932-96f1-487230875968   Steven Gilbert  18.0   \n",
       "\n",
       "                                  Email   Join Date  Salary   Department  \n",
       "0                    xlopez@hotmail.com  2022-07-07   88552        Sales  \n",
       "1                   invalid@example.com  2022-07-07  139227      Unknown  \n",
       "2                   invalid@example.com  2023-11-21   65550  Engineering  \n",
       "3                   invalid@example.com  2021-11-05  139932      Support  \n",
       "4               figueroakayla@yahoo.com  2021-11-05  143456    Marketing  \n",
       "...                                 ...         ...     ...          ...  \n",
       "8903             jeremybanks@rogers.biz  2020-12-17   88472      Support  \n",
       "8904  smithdaniel@williams-thompson.net  2023-12-12   71575      Unknown  \n",
       "8905                nfranklin@yahoo.com  1979-05-12  128456    Marketing  \n",
       "8906                   lmyers@gmail.com  2020-10-28  128939  Engineering  \n",
       "8907                   cjones@yahoo.com  2022-06-01  101447           HR  \n",
       "\n",
       "[8908 rows x 8 columns]"
      ]
     },
     "execution_count": 107,
     "metadata": {},
     "output_type": "execute_result"
    }
   ],
   "source": [
    "df_sorted"
   ]
  },
  {
   "cell_type": "code",
   "execution_count": 110,
   "id": "1950f86d",
   "metadata": {},
   "outputs": [],
   "source": [
    "# Save the DataFrame to a CSV file\n",
    "df_sorted.to_csv('cleaned_dataset.csv', index=False)"
   ]
  }
 ],
 "metadata": {
  "kernelspec": {
   "display_name": "Python 3 (ipykernel)",
   "language": "python",
   "name": "python3"
  },
  "language_info": {
   "codemirror_mode": {
    "name": "ipython",
    "version": 3
   },
   "file_extension": ".py",
   "mimetype": "text/x-python",
   "name": "python",
   "nbconvert_exporter": "python",
   "pygments_lexer": "ipython3",
   "version": "3.7.9"
  }
 },
 "nbformat": 4,
 "nbformat_minor": 5
}
